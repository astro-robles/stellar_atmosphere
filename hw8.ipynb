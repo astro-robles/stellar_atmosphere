{
 "cells": [
  {
   "cell_type": "markdown",
   "id": "de8baded-fbf5-4d06-b126-edc65e7be0c0",
   "metadata": {},
   "source": [
    "# HW8"
   ]
  },
  {
   "cell_type": "code",
   "execution_count": 1,
   "id": "cf25db22-0852-4ef1-97b4-7dced81f3174",
   "metadata": {},
   "outputs": [],
   "source": [
    "import sa\n",
    "import numpy as np\n",
    "import matplotlib.pyplot as plt\n",
    "from astropy import units as u\n",
    "from astropy import constants as const\n",
    "import pandas as pd"
   ]
  },
  {
   "cell_type": "markdown",
   "id": "9f99eda1-dafe-40b4-968a-cd3938898d8f",
   "metadata": {},
   "source": [
    "## Part A: Find $P_e$ from $T$ and $P_g$"
   ]
  },
  {
   "cell_type": "code",
   "execution_count": 2,
   "id": "b43a9bce-25ce-4686-bf4a-fbc1686c1592",
   "metadata": {},
   "outputs": [
    {
     "name": "stderr",
     "output_type": "stream",
     "text": [
      "/home/crobles/anaconda3/lib/python3.11/site-packages/scipy/optimize/_minpack_py.py:1010: OptimizeWarning: Covariance of the parameters could not be estimated\n",
      "  warnings.warn('Covariance of the parameters could not be estimated',\n"
     ]
    }
   ],
   "source": [
    "sa.load_partition_data()\n",
    "sa.load_ionization_data()"
   ]
  },
  {
   "cell_type": "code",
   "execution_count": 3,
   "id": "64a84f7d-5d2f-4a53-b550-6b883e996a81",
   "metadata": {},
   "outputs": [],
   "source": [
    "def load_abundance_data():\n",
    "    global abun_data\n",
    "    global elements\n",
    "    df   = pd.read_csv('SolarAbundance.txt',sep = '\\t')  \n",
    "    abun = df.to_numpy()\n",
    "    abun_data = abun[:,1:]\n",
    "    elements = abun_data[:,0]"
   ]
  },
  {
   "cell_type": "code",
   "execution_count": 4,
   "id": "a1d5612d-7227-412f-8f0d-b2c35d513077",
   "metadata": {},
   "outputs": [],
   "source": [
    "load_abundance_data()"
   ]
  },
  {
   "cell_type": "code",
   "execution_count": 5,
   "id": "1f09f3d9-0879-4b1a-8ebf-7cbdaa987f8a",
   "metadata": {},
   "outputs": [],
   "source": [
    "def A(specy):\n",
    "    # return the A for a given element\n",
    "    spec_index = np.where(abun_data == specy)[0][0]\n",
    "    return np.nan_to_num(abun_data[spec_index,2])"
   ]
  },
  {
   "cell_type": "code",
   "execution_count": 6,
   "id": "d371e4b3-9d57-4891-9164-0589f4af1855",
   "metadata": {},
   "outputs": [],
   "source": [
    "def Pe(Pg,T):\n",
    "    # needs numpy array inputs\n",
    "    pe  = Pe_guess(Pg,T)\n",
    "    tol=10**(-4)\n",
    "    dif=2\n",
    "    iter=0\n",
    "    ones =np.ones(T.size)\n",
    "    while dif>tol and iter<100: \n",
    "        iter+=1\n",
    "        #loop through j\n",
    "        sum1 = np.zeros(T.size)\n",
    "        sum2 = np.zeros(T.size)\n",
    "        for i in range(28):\n",
    "            Phi_j = sa.Phi(T,elements[i])\n",
    "            A_j   = A(elements[i])\n",
    "            #bigfrac = (Phi_j)/(1+frac)\n",
    "            sum1+=A_j*((Phi_j)/(ones+(Phi_j/pe)))\n",
    "            sum2+=A_j*(ones+((Phi_j/pe)/(ones+(Phi_j/pe))))\n",
    "        result = np.sqrt(Pg*sum1/sum2)\n",
    "        dif    = np.abs(result-pe)\n",
    "        pe     = result\n",
    "    return result\n"
   ]
  },
  {
   "cell_type": "code",
   "execution_count": 7,
   "id": "833cb4a1-7ce5-4233-8c11-37fdf7cc9f65",
   "metadata": {},
   "outputs": [],
   "source": [
    "def Pe_guess(Pg,T):\n",
    "    if T>30000:\n",
    "        return Pg/2\n",
    "    return np.sqrt(Pg*sa.Phi(T,'H'))"
   ]
  },
  {
   "cell_type": "code",
   "execution_count": 8,
   "id": "c77fcb8f-c699-4a0c-813f-df1cce4e4c3d",
   "metadata": {},
   "outputs": [
    {
     "name": "stdout",
     "output_type": "stream",
     "text": [
      "[-0.44915478]\n"
     ]
    }
   ],
   "source": [
    "Tt=np.array([4500])\n",
    "Pgt = np.array([10**3.64])\n",
    "print(np.log10(Pe(Pgt,Tt)))"
   ]
  },
  {
   "cell_type": "markdown",
   "id": "aebaef37-6e5d-4322-8afb-622a41364f5a",
   "metadata": {},
   "source": [
    "## Part C: Abundances of Metals"
   ]
  },
  {
   "cell_type": "code",
   "execution_count": 9,
   "id": "38e2a6f0-64f7-45a5-b113-cec371b0c4a0",
   "metadata": {},
   "outputs": [
    {
     "name": "stdout",
     "output_type": "stream",
     "text": [
      "0.08617520537270001\n"
     ]
    }
   ],
   "source": [
    "## Part C\n",
    "sum=0\n",
    "for i in range(1,30):\n",
    "    sum+=abun_data[i,2]\n",
    "print(sum)"
   ]
  },
  {
   "cell_type": "code",
   "execution_count": 14,
   "id": "1df45229-6514-47ec-ac5f-82eea743521d",
   "metadata": {},
   "outputs": [
    {
     "name": "stdout",
     "output_type": "stream",
     "text": [
      "1.0861752126722\n"
     ]
    }
   ],
   "source": [
    "print(np.nansum(abun_data[:,2]))"
   ]
  },
  {
   "cell_type": "code",
   "execution_count": 20,
   "id": "91a0e158-2da8-4ad4-9ab3-fa720c21b812",
   "metadata": {},
   "outputs": [
    {
     "name": "stdout",
     "output_type": "stream",
     "text": [
      "0.0184523748700428\n"
     ]
    }
   ],
   "source": [
    "sum=0\n",
    "for i in range(2,31):\n",
    "    sum+=(abun_data[i,2]*abun_data[i,1])\n",
    "print(sum)"
   ]
  },
  {
   "cell_type": "code",
   "execution_count": 18,
   "id": "621ca2f7-3d96-4fa0-a87c-cbc172393a44",
   "metadata": {},
   "outputs": [
    {
     "name": "stdout",
     "output_type": "stream",
     "text": [
      "1.3671083792612626\n"
     ]
    }
   ],
   "source": [
    "print(np.nansum(abun_data[:,2]*abun_data[:,1]))"
   ]
  },
  {
   "cell_type": "code",
   "execution_count": 12,
   "id": "6154693a-ace3-4049-a969-0c86ea81e565",
   "metadata": {},
   "outputs": [
    {
     "name": "stdout",
     "output_type": "stream",
     "text": [
      "0.0010752126595989992\n"
     ]
    }
   ],
   "source": [
    "sum=0\n",
    "for i in range(3,elements.size):\n",
    "    if abun_data[i,2] != np.nan:\n",
    "        sum+=np.nan_to_num(abun_data[i,2])\n",
    "print(sum)"
   ]
  },
  {
   "cell_type": "code",
   "execution_count": 13,
   "id": "73bd3394-325a-4b10-a673-607142210468",
   "metadata": {},
   "outputs": [
    {
     "name": "stdout",
     "output_type": "stream",
     "text": [
      "0.35910837926126205\n"
     ]
    }
   ],
   "source": [
    "sum=0\n",
    "for i in range(1,elements.size):\n",
    "    sum+=np.nan_to_num((abun_data[i,2]*abun_data[i,1]))\n",
    "print(sum)"
   ]
  },
  {
   "cell_type": "code",
   "execution_count": null,
   "id": "ce249a44-9e72-490f-bf7b-6a7ee133f9c0",
   "metadata": {},
   "outputs": [],
   "source": []
  }
 ],
 "metadata": {
  "kernelspec": {
   "display_name": "Python 3 (ipykernel)",
   "language": "python",
   "name": "python3"
  },
  "language_info": {
   "codemirror_mode": {
    "name": "ipython",
    "version": 3
   },
   "file_extension": ".py",
   "mimetype": "text/x-python",
   "name": "python",
   "nbconvert_exporter": "python",
   "pygments_lexer": "ipython3",
   "version": "3.11.7"
  }
 },
 "nbformat": 4,
 "nbformat_minor": 5
}
