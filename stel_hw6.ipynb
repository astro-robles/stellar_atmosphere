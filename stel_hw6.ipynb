{
 "cells": [
  {
   "cell_type": "code",
   "execution_count": 1,
   "id": "372f0e30",
   "metadata": {},
   "outputs": [],
   "source": [
    "from astropy import units as u\n",
    "from astropy import constants as const\n",
    "import numpy as np\n",
    "import matplotlib.pyplot as plt\n",
    "from scipy import integrate\n",
    "from scipy import special\n",
    "from scipy.optimize import curve_fit\n",
    "from astropy.modeling.models import BlackBody\n",
    "import pandas as pd\n"
   ]
  },
  {
   "cell_type": "code",
   "execution_count": 2,
   "id": "829cce1c-7c8d-4a97-8b64-7ad75dc11752",
   "metadata": {},
   "outputs": [],
   "source": [
    "def load_partition_data():\n",
    "    global partition_species\n",
    "    global partition_coef\n",
    "    global partition_data\n",
    "    \n",
    "    df    = pd.read_csv('RepairedPartitionFunctions.txt',header=None,sep=\" \")\n",
    "    df    = df.replace('-',np.nan)\n",
    "    tempy = df.to_numpy()\n",
    "    b     = tempy[:,1:-1]\n",
    "    s     = tempy[:,0]\n",
    "\n",
    "    partition_data    = b.astype(float)\n",
    "    partition_species = s.astype(str)\n",
    "\n",
    "    ## interpolating\n",
    "    theta_columns       = np.linspace(.2,2.0,num=10)  # to match with the input data\n",
    "    num_rows            = np.shape(b)[0]\n",
    "    partition_coef      = np.zeros([num_rows,3])\n",
    "    \n",
    "    def test_func(x, a, b, c):\n",
    "        return a * np.exp(-b * x) + c\n",
    "    \n",
    "    for i in range(num_rows):\n",
    "        idx               = np.isfinite(theta_columns) & np.isfinite(partition_data[i])\n",
    "        #partition_coef[i] = np.polyfit(theta_columns[idx],partition_data[i][idx],7)\n",
    "        try:\n",
    "            partition_coef[i], param_cov = curve_fit(test_func, theta_columns[idx], partition_data[i][idx])\n",
    "        except:\n",
    "            pass\n",
    "        "
   ]
  },
  {
   "cell_type": "code",
   "execution_count": 3,
   "id": "67ed7a8e-9ef7-4881-8330-5149acfaaab3",
   "metadata": {},
   "outputs": [],
   "source": [
    "def partition(temp,specy):\n",
    "    # load partition info\n",
    "    if specy == 'H-' or specy == 'HII' or specy == 'Li+':\n",
    "        if isinstance(temp, int) or isinstance(temp, float):\n",
    "            return 1\n",
    "        else:\n",
    "            return np.ones(temp.size)\n",
    "    else:\n",
    "        # find the species\n",
    "        spec_index = np.where(partition_species == specy)[0][0]\n",
    "    \n",
    "        # interpolate function\n",
    "        #spec_function = np.poly1d(partition_coef[spec_index])\n",
    "        theta         = temptotheta(temp)\n",
    "        param = partition_coef[spec_index]\n",
    "        ans = param[0] * np.exp(-param[1] * theta) + param[2]\n",
    "        return np.power(10,ans)\n",
    "        #return ans"
   ]
  },
  {
   "cell_type": "code",
   "execution_count": 4,
   "id": "96c26156-1b5a-4d15-a7da-6a9e5170e52e",
   "metadata": {},
   "outputs": [],
   "source": [
    "def Phi(temp,spec):\n",
    "    # temperature dependent part of RHS Saha\n",
    "    # find next ionization\n",
    "    if spec == 'H-':\n",
    "        nextspec = 'H'\n",
    "    elif spec == 'H':\n",
    "        nextspec = 'HII'\n",
    "    else:\n",
    "        nextspec = spec + '+'\n",
    "    u0    = partition(temp,spec)\n",
    "    u1    = partition(temp,nextspec)\n",
    "    theta = temptotheta(temp)\n",
    "    I     = X(spec)\n",
    "    return (1.2024*10**9)*(u1/u0)*np.power(theta,-2.5)*np.power(10,-theta*I)"
   ]
  },
  {
   "cell_type": "code",
   "execution_count": 5,
   "id": "1446748e-3393-4156-b13e-bae035f172bc",
   "metadata": {},
   "outputs": [],
   "source": [
    "def X(specy):\n",
    "    if specy == 'H-':\n",
    "        return 0.755\n",
    "    else:\n",
    "        # check nist\n",
    "        nist_index = np.where(nist_data == specy)[0][0]\n",
    "        if nist_index>0:\n",
    "            #use nist\n",
    "            return nist_data[nist_index,2]\n",
    "        else:\n",
    "            #use grey        \n",
    "            #how many +s\n",
    "            numplus= len(specy)-specy.find('+')\n",
    "            if specy.find('+')>0:\n",
    "                specy = specy[:-numplus]\n",
    "            else:\n",
    "                numplus=0\n",
    "    \n",
    "            spec_index = np.where(ionization_data == specy)[0][0]\n",
    "            \n",
    "            return ionization_data[spec_index,numplus+2]"
   ]
  },
  {
   "cell_type": "code",
   "execution_count": 6,
   "id": "276ac3fa-08e3-4643-8065-da73b24ffb76",
   "metadata": {},
   "outputs": [],
   "source": [
    "def load_ionization_data():\n",
    "    global ionization_data\n",
    "    global nist_data\n",
    "    \n",
    "    df2             = pd.read_fwf('ioniz.txt',header=None)  \n",
    "    iontemp         = df2.to_numpy()\n",
    "    ionization_data = iontemp[:,1:]\n",
    "\n",
    "    df3 = pd.read_csv('nist_ioniz2.csv',header=None,sep = '\\t')\n",
    "    nisttemp = df3.to_numpy()\n",
    "    nist_data = nisttemp[:,1:]\n",
    "    testing = nist_data[:,0]\n",
    "    nist_data[:,0] = np.char.strip(testing.astype(str))\n",
    "    "
   ]
  },
  {
   "cell_type": "code",
   "execution_count": 7,
   "id": "8271cc0c-b611-4add-9aef-68a4307680dc",
   "metadata": {},
   "outputs": [],
   "source": [
    "def thetatotemp(theta):\n",
    "    return 5040/theta"
   ]
  },
  {
   "cell_type": "code",
   "execution_count": 8,
   "id": "d5e4e43e-9d2b-4d95-9c3e-4f15ed9ef21b",
   "metadata": {},
   "outputs": [],
   "source": [
    "def temptotheta(temp):\n",
    "    return 5040/temp"
   ]
  },
  {
   "cell_type": "code",
   "execution_count": 9,
   "id": "5b36cd6f-5ffa-4553-a07c-939328b950bb",
   "metadata": {},
   "outputs": [
    {
     "name": "stderr",
     "output_type": "stream",
     "text": [
      "/home/crobles/anaconda3/lib/python3.11/site-packages/scipy/optimize/_minpack_py.py:1010: OptimizeWarning: Covariance of the parameters could not be estimated\n",
      "  warnings.warn('Covariance of the parameters could not be estimated',\n"
     ]
    },
    {
     "ename": "IndexError",
     "evalue": "index 0 is out of bounds for axis 1 with size 0",
     "output_type": "error",
     "traceback": [
      "\u001b[0;31m---------------------------------------------------------------------------\u001b[0m",
      "\u001b[0;31mIndexError\u001b[0m                                Traceback (most recent call last)",
      "Cell \u001b[0;32mIn[9], line 2\u001b[0m\n\u001b[1;32m      1\u001b[0m load_partition_data()\n\u001b[0;32m----> 2\u001b[0m load_ionization_data()\n",
      "Cell \u001b[0;32mIn[6], line 12\u001b[0m, in \u001b[0;36mload_ionization_data\u001b[0;34m()\u001b[0m\n\u001b[1;32m     10\u001b[0m nisttemp \u001b[38;5;241m=\u001b[39m df3\u001b[38;5;241m.\u001b[39mto_numpy()\n\u001b[1;32m     11\u001b[0m nist_data \u001b[38;5;241m=\u001b[39m nisttemp[:,\u001b[38;5;241m1\u001b[39m:]\n\u001b[0;32m---> 12\u001b[0m testing \u001b[38;5;241m=\u001b[39m nist_data[:,\u001b[38;5;241m0\u001b[39m]\n\u001b[1;32m     13\u001b[0m nist_data[:,\u001b[38;5;241m0\u001b[39m] \u001b[38;5;241m=\u001b[39m np\u001b[38;5;241m.\u001b[39mchar\u001b[38;5;241m.\u001b[39mstrip(testing\u001b[38;5;241m.\u001b[39mastype(\u001b[38;5;28mstr\u001b[39m))\n",
      "\u001b[0;31mIndexError\u001b[0m: index 0 is out of bounds for axis 1 with size 0"
     ]
    }
   ],
   "source": [
    "load_partition_data()\n",
    "load_ionization_data()"
   ]
  },
  {
   "cell_type": "code",
   "execution_count": null,
   "id": "50c0b236-12bd-4bec-babd-57258450ab7d",
   "metadata": {},
   "outputs": [],
   "source": [
    "#temperatures = np.array([1000,2000,3000,4000,5000,6000,7000])\n",
    "\n",
    "spec_list = ['H','Li','Ar','Fe']\n",
    "\n",
    "for species in spec_list:\n",
    "    \n",
    "    test_theta = np.linspace(.2,2,num=1000)\n",
    "    test_theta2 = np.linspace(.2,2,num=10)\n",
    "    test_temp = thetatotemp(test_theta)\n",
    "    species_index=np.where(partition_species == species)[0][0]\n",
    "    u = partition(test_temp,species)\n",
    "    plt.scatter(test_theta2,np.power(10,partition_data[species_index]))\n",
    "    #plt.scatter(test_theta2,partition_data[species_index])\n",
    "    plt.plot(test_theta,u)\n",
    "    plt.title(\"Partition function for \"+species)\n",
    "    plt.xlabel(r\"$\\theta$\")\n",
    "    plt.ylabel(r\"u($\\theta$)\")\n",
    "    plt.legend([\"partition data\",\"exponential fit\"])\n",
    "    plt.savefig('hw6_partition_'+species+'.svg', bbox_inches='tight')\n",
    "    #plt.yscale(\"log\")\n",
    "    plt.show()"
   ]
  },
  {
   "cell_type": "code",
   "execution_count": null,
   "id": "806c3d97-1bc9-4422-acbc-44d19c8d3e7b",
   "metadata": {},
   "outputs": [],
   "source": [
    "temp=np.linspace(2000,10000,num=100)\n",
    "\n",
    "frac1 = Phi(temp,'Fe')\n",
    "frac2 = Phi(temp,'Fe+')\n",
    "ones = np.ones(temp.size)\n",
    "\n",
    "zero = (ones/frac1)/((ones/frac1)+ones+frac2)\n",
    "first = ones/((ones/frac1)+ones+frac2)\n",
    "second = frac2/((ones/frac1)+ones+frac2)\n",
    "\n",
    "\n",
    "plt.plot(temp,zero)\n",
    "plt.plot(temp,first)\n",
    "plt.plot(temp,second)\n",
    "plt.title(\"Ionization of Iron\")\n",
    "plt.xlabel(\"Temperature [K]\")\n",
    "plt.ylabel(\"Fraction in Ionization Stage\")\n",
    "plt.legend([\"Neutral\",\"1st Ion\",\"2nd Ion\"])\n",
    "plt.show()"
   ]
  },
  {
   "cell_type": "code",
   "execution_count": null,
   "id": "b24bf8c7-898e-492a-a203-eafb2eac6e7c",
   "metadata": {},
   "outputs": [],
   "source": [
    "print(\"hi\"+\"hi\")"
   ]
  },
  {
   "cell_type": "code",
   "execution_count": null,
   "id": "2f9759e5-8107-4677-b222-5dbcd3989f99",
   "metadata": {},
   "outputs": [],
   "source": []
  }
 ],
 "metadata": {
  "kernelspec": {
   "display_name": "Python 3 (ipykernel)",
   "language": "python",
   "name": "python3"
  },
  "language_info": {
   "codemirror_mode": {
    "name": "ipython",
    "version": 3
   },
   "file_extension": ".py",
   "mimetype": "text/x-python",
   "name": "python",
   "nbconvert_exporter": "python",
   "pygments_lexer": "ipython3",
   "version": "3.11.7"
  }
 },
 "nbformat": 4,
 "nbformat_minor": 5
}
